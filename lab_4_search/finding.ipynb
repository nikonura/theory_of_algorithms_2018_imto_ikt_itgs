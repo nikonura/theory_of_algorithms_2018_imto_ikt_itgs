{
 "cells": [
  {
   "cell_type": "code",
   "execution_count": 102,
   "metadata": {},
   "outputs": [],
   "source": [
    "import os\n",
    "import sys\n",
    "from matplotlib import pyplot as plt\n",
    "import numpy as np\n",
    "def binary(arr, f):\n",
    "    print('binary')\n",
    "    barier1 = 0\n",
    "    barier2 = len(arr)\n",
    "    print(barier1, ' ', barier2);\n",
    "    if f>barier1 and barier2>f:\n",
    "\n",
    "        while(barier1<=barier2):\n",
    "        #for i in range(barier2):\n",
    "            currentElem = barier1 + (barier2-barier1)//2;\n",
    "            print(arr[barier1], ' ', arr[currentElem], ' ', arr[barier2-1]);\n",
    "            if arr[barier1]==f: \n",
    "                return barier1\n",
    "            if arr[barier2-1]==f: \n",
    "                return barier2\n",
    "            if arr[currentElem]!=f:\n",
    "                print('ce dont equal f')\n",
    "                if arr[currentElem]<f:\n",
    "                    barier1 = currentElem\n",
    "                if arr[currentElem]>f:\n",
    "                    barier2 = currentElem\n",
    "            else:\n",
    "                return currentElem\n",
    "    return 'not found'"
   ]
  },
  {
   "cell_type": "code",
   "execution_count": 103,
   "metadata": {},
   "outputs": [
    {
     "name": "stdout",
     "output_type": "stream",
     "text": [
      "binary\n",
      "0   13\n",
      "not found\n"
     ]
    }
   ],
   "source": [
    "array = [0, 1,2,3,4,5,6,7,8,9,10,11,12]\n",
    "numforfind = 14\n",
    "print(binary(array, numforfind))"
   ]
  },
  {
   "cell_type": "code",
   "execution_count": 96,
   "metadata": {},
   "outputs": [
    {
     "name": "stdout",
     "output_type": "stream",
     "text": [
      "binary\n",
      "0   14\n",
      "0   7   13\n",
      "ce dont equal f\n",
      "0   3   6\n",
      "7\n"
     ]
    }
   ],
   "source": [
    "array = [0, 1,2,3,4,5,6,7,8,9,10,11,12,13]\n",
    "numforfind = 6\n",
    "print(binary(array, numforfind))"
   ]
  },
  {
   "cell_type": "code",
   "execution_count": 97,
   "metadata": {},
   "outputs": [
    {
     "name": "stdout",
     "output_type": "stream",
     "text": [
      "binary\n",
      "0   14\n",
      "0   7   13\n",
      "14\n"
     ]
    }
   ],
   "source": [
    "array = [0, 1,2,3,4,5,6,7,8,9,10,11,12,13]\n",
    "numforfind = 13\n",
    "print(binary(array, numforfind))"
   ]
  },
  {
   "cell_type": "code",
   "execution_count": 98,
   "metadata": {},
   "outputs": [
    {
     "name": "stdout",
     "output_type": "stream",
     "text": [
      "binary\n",
      "0   13\n",
      "0   6   12\n",
      "ce dont equal f\n",
      "6   9   12\n",
      "ce dont equal f\n",
      "9   11   12\n",
      "11\n"
     ]
    }
   ],
   "source": [
    "array = [0, 1,2,3,4,5,6,7,8,9,10,11,12]\n",
    "numforfind = 11\n",
    "print(binary(array, numforfind))"
   ]
  },
  {
   "cell_type": "code",
   "execution_count": 49,
   "metadata": {},
   "outputs": [],
   "source": [
    "def barier(array, find_elem):\n",
    "    position = 0\n",
    "    if (array[len(array)-1] != find_elem):\n",
    "        print(\"in if\")\n",
    "        array.append(find_elem)\n",
    "        while (array[position] != find_elem):\n",
    "            position+=1\n",
    "    else:\n",
    "        print(\"else\")\n",
    "        return len(array)-1\n",
    "    return position if position < len(array)-1 else 0 "
   ]
  },
  {
   "cell_type": "code",
   "execution_count": 48,
   "metadata": {},
   "outputs": [
    {
     "name": "stdout",
     "output_type": "stream",
     "text": [
      "else\n"
     ]
    },
    {
     "data": {
      "text/plain": [
       "8"
      ]
     },
     "execution_count": 48,
     "metadata": {},
     "output_type": "execute_result"
    }
   ],
   "source": [
    "array = [1, 2, 3, 4, 6, 7, 9, 12, 28]\n",
    "barier(array, 28)"
   ]
  },
  {
   "cell_type": "code",
   "execution_count": 50,
   "metadata": {},
   "outputs": [
    {
     "name": "stdout",
     "output_type": "stream",
     "text": [
      "in if\n"
     ]
    },
    {
     "data": {
      "text/plain": [
       "2"
      ]
     },
     "execution_count": 50,
     "metadata": {},
     "output_type": "execute_result"
    }
   ],
   "source": [
    "barier(array, 3)"
   ]
  },
  {
   "cell_type": "code",
   "execution_count": 51,
   "metadata": {},
   "outputs": [
    {
     "name": "stdout",
     "output_type": "stream",
     "text": [
      "in if\n"
     ]
    },
    {
     "data": {
      "text/plain": [
       "0"
      ]
     },
     "execution_count": 51,
     "metadata": {},
     "output_type": "execute_result"
    }
   ],
   "source": [
    "barier(array, 5)"
   ]
  },
  {
   "cell_type": "code",
   "execution_count": null,
   "metadata": {},
   "outputs": [],
   "source": []
  }
 ],
 "metadata": {
  "kernelspec": {
   "display_name": "Python 3",
   "language": "python",
   "name": "python3"
  },
  "language_info": {
   "codemirror_mode": {
    "name": "ipython",
    "version": 3
   },
   "file_extension": ".py",
   "mimetype": "text/x-python",
   "name": "python",
   "nbconvert_exporter": "python",
   "pygments_lexer": "ipython3",
   "version": "3.5.2"
  }
 },
 "nbformat": 4,
 "nbformat_minor": 2
}
